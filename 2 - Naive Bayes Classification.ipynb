{
  "nbformat": 4,
  "nbformat_minor": 0,
  "metadata": {
    "colab": {
      "name": "Naive Bayes Classification.ipynb",
      "provenance": [],
      "collapsed_sections": []
    },
    "kernelspec": {
      "name": "python3",
      "display_name": "Python 3"
    }
  },
  "cells": [
    {
      "cell_type": "markdown",
      "metadata": {
        "id": "QLKuEUrsjJtt"
      },
      "source": [
        "#### Dataset Used: Titanic Dataset\r\n",
        "#### Name: Rajath C Aralikatti\r\n",
        "#### Roll No: 181CO241 Section 2"
      ]
    },
    {
      "cell_type": "markdown",
      "metadata": {
        "id": "lalWWmhMOZ94"
      },
      "source": [
        "## Naive Bayes Classification\r\n",
        "- Naive Bayes Classification is a supervised classification algorithm.\r\n",
        "- We apply Bayes’ theorem with assumption of conditional independence between the input features. The term Naive comes in the name becaue we make the above assumption."
      ]
    },
    {
      "cell_type": "markdown",
      "metadata": {
        "id": "ByRG7UVFECKH"
      },
      "source": [
        "## Import the required libraries"
      ]
    },
    {
      "cell_type": "code",
      "metadata": {
        "id": "6NzIK9KbMM2i"
      },
      "source": [
        "import pandas as pd\r\n",
        "import numpy as np\r\n",
        "from sklearn.metrics import accuracy_score, classification_report\r\n",
        "from sklearn.model_selection import train_test_split"
      ],
      "execution_count": null,
      "outputs": []
    },
    {
      "cell_type": "markdown",
      "metadata": {
        "id": "Vovg8D5BEVVf"
      },
      "source": [
        "## Mount Google Drive"
      ]
    },
    {
      "cell_type": "code",
      "metadata": {
        "colab": {
          "base_uri": "https://localhost:8080/"
        },
        "id": "tRli0US9PV7s",
        "outputId": "ecf373ea-266d-4c18-e63f-af154ccac279"
      },
      "source": [
        "from google.colab import drive\r\n",
        "drive.mount('/content/drive')\r\n",
        "\r\n",
        "import os\r\n",
        "os.chdir('/content/drive/MyDrive/Colab Notebooks')"
      ],
      "execution_count": null,
      "outputs": [
        {
          "output_type": "stream",
          "text": [
            "Drive already mounted at /content/drive; to attempt to forcibly remount, call drive.mount(\"/content/drive\", force_remount=True).\n"
          ],
          "name": "stdout"
        }
      ]
    },
    {
      "cell_type": "markdown",
      "metadata": {
        "id": "vLiXB3OUd2x6"
      },
      "source": [
        "## Reading the Data from titanic.csv"
      ]
    },
    {
      "cell_type": "code",
      "metadata": {
        "colab": {
          "base_uri": "https://localhost:8080/",
          "height": 204
        },
        "id": "KA1BOkSsPZ80",
        "outputId": "8257497b-2bdf-46e2-b7fd-0de2ffc091fc"
      },
      "source": [
        "df = pd.read_csv('./Data/titanic.csv')\r\n",
        "df.head()"
      ],
      "execution_count": null,
      "outputs": [
        {
          "output_type": "execute_result",
          "data": {
            "text/html": [
              "<div>\n",
              "<style scoped>\n",
              "    .dataframe tbody tr th:only-of-type {\n",
              "        vertical-align: middle;\n",
              "    }\n",
              "\n",
              "    .dataframe tbody tr th {\n",
              "        vertical-align: top;\n",
              "    }\n",
              "\n",
              "    .dataframe thead th {\n",
              "        text-align: right;\n",
              "    }\n",
              "</style>\n",
              "<table border=\"1\" class=\"dataframe\">\n",
              "  <thead>\n",
              "    <tr style=\"text-align: right;\">\n",
              "      <th></th>\n",
              "      <th>PassengerId</th>\n",
              "      <th>Survived</th>\n",
              "      <th>Pclass</th>\n",
              "      <th>Name</th>\n",
              "      <th>Sex</th>\n",
              "      <th>Age</th>\n",
              "      <th>SibSp</th>\n",
              "      <th>Parch</th>\n",
              "      <th>Ticket</th>\n",
              "      <th>Fare</th>\n",
              "      <th>Cabin</th>\n",
              "      <th>Embarked</th>\n",
              "    </tr>\n",
              "  </thead>\n",
              "  <tbody>\n",
              "    <tr>\n",
              "      <th>0</th>\n",
              "      <td>1</td>\n",
              "      <td>0</td>\n",
              "      <td>3</td>\n",
              "      <td>Braund, Mr. Owen Harris</td>\n",
              "      <td>male</td>\n",
              "      <td>22.0</td>\n",
              "      <td>1</td>\n",
              "      <td>0</td>\n",
              "      <td>A/5 21171</td>\n",
              "      <td>7.2500</td>\n",
              "      <td>NaN</td>\n",
              "      <td>S</td>\n",
              "    </tr>\n",
              "    <tr>\n",
              "      <th>1</th>\n",
              "      <td>2</td>\n",
              "      <td>1</td>\n",
              "      <td>1</td>\n",
              "      <td>Cumings, Mrs. John Bradley (Florence Briggs Th...</td>\n",
              "      <td>female</td>\n",
              "      <td>38.0</td>\n",
              "      <td>1</td>\n",
              "      <td>0</td>\n",
              "      <td>PC 17599</td>\n",
              "      <td>71.2833</td>\n",
              "      <td>C85</td>\n",
              "      <td>C</td>\n",
              "    </tr>\n",
              "    <tr>\n",
              "      <th>2</th>\n",
              "      <td>3</td>\n",
              "      <td>1</td>\n",
              "      <td>3</td>\n",
              "      <td>Heikkinen, Miss. Laina</td>\n",
              "      <td>female</td>\n",
              "      <td>26.0</td>\n",
              "      <td>0</td>\n",
              "      <td>0</td>\n",
              "      <td>STON/O2. 3101282</td>\n",
              "      <td>7.9250</td>\n",
              "      <td>NaN</td>\n",
              "      <td>S</td>\n",
              "    </tr>\n",
              "    <tr>\n",
              "      <th>3</th>\n",
              "      <td>4</td>\n",
              "      <td>1</td>\n",
              "      <td>1</td>\n",
              "      <td>Futrelle, Mrs. Jacques Heath (Lily May Peel)</td>\n",
              "      <td>female</td>\n",
              "      <td>35.0</td>\n",
              "      <td>1</td>\n",
              "      <td>0</td>\n",
              "      <td>113803</td>\n",
              "      <td>53.1000</td>\n",
              "      <td>C123</td>\n",
              "      <td>S</td>\n",
              "    </tr>\n",
              "    <tr>\n",
              "      <th>4</th>\n",
              "      <td>5</td>\n",
              "      <td>0</td>\n",
              "      <td>3</td>\n",
              "      <td>Allen, Mr. William Henry</td>\n",
              "      <td>male</td>\n",
              "      <td>35.0</td>\n",
              "      <td>0</td>\n",
              "      <td>0</td>\n",
              "      <td>373450</td>\n",
              "      <td>8.0500</td>\n",
              "      <td>NaN</td>\n",
              "      <td>S</td>\n",
              "    </tr>\n",
              "  </tbody>\n",
              "</table>\n",
              "</div>"
            ],
            "text/plain": [
              "   PassengerId  Survived  Pclass  ...     Fare Cabin  Embarked\n",
              "0            1         0       3  ...   7.2500   NaN         S\n",
              "1            2         1       1  ...  71.2833   C85         C\n",
              "2            3         1       3  ...   7.9250   NaN         S\n",
              "3            4         1       1  ...  53.1000  C123         S\n",
              "4            5         0       3  ...   8.0500   NaN         S\n",
              "\n",
              "[5 rows x 12 columns]"
            ]
          },
          "metadata": {
            "tags": []
          },
          "execution_count": 3
        }
      ]
    },
    {
      "cell_type": "markdown",
      "metadata": {
        "id": "jJS_K4_DRKKj"
      },
      "source": [
        "## Dropping Redundant Columns and removing Rows with Missing Data (Data Pre-Processing)"
      ]
    },
    {
      "cell_type": "code",
      "metadata": {
        "colab": {
          "base_uri": "https://localhost:8080/"
        },
        "id": "yKtbgURxPp-K",
        "outputId": "93f37a79-aee8-471c-a3f3-1c341d226213"
      },
      "source": [
        "print(df.columns)"
      ],
      "execution_count": null,
      "outputs": [
        {
          "output_type": "stream",
          "text": [
            "Index(['PassengerId', 'Survived', 'Pclass', 'Name', 'Sex', 'Age', 'SibSp',\n",
            "       'Parch', 'Ticket', 'Fare', 'Cabin', 'Embarked'],\n",
            "      dtype='object')\n"
          ],
          "name": "stdout"
        }
      ]
    },
    {
      "cell_type": "code",
      "metadata": {
        "id": "mVuw0DEEQ0Mb"
      },
      "source": [
        "df = df.drop(['PassengerId', 'Name', 'Ticket', 'Fare', 'Cabin'], axis=1)"
      ],
      "execution_count": null,
      "outputs": []
    },
    {
      "cell_type": "code",
      "metadata": {
        "colab": {
          "base_uri": "https://localhost:8080/"
        },
        "id": "AqbhTWASSl6P",
        "outputId": "d7651f55-2070-4679-c385-0142015ea85b"
      },
      "source": [
        "print(df.columns)"
      ],
      "execution_count": null,
      "outputs": [
        {
          "output_type": "stream",
          "text": [
            "Index(['Survived', 'Pclass', 'Sex', 'Age', 'SibSp', 'Parch', 'Embarked'], dtype='object')\n"
          ],
          "name": "stdout"
        }
      ]
    },
    {
      "cell_type": "code",
      "metadata": {
        "colab": {
          "base_uri": "https://localhost:8080/"
        },
        "id": "N1UDRNG-SvZt",
        "outputId": "658338ac-5d1f-4bb2-f731-b0806cd5f1f6"
      },
      "source": [
        "print(df.isna().sum())"
      ],
      "execution_count": null,
      "outputs": [
        {
          "output_type": "stream",
          "text": [
            "Survived      0\n",
            "Pclass        0\n",
            "Sex           0\n",
            "Age         177\n",
            "SibSp         0\n",
            "Parch         0\n",
            "Embarked      2\n",
            "dtype: int64\n"
          ],
          "name": "stdout"
        }
      ]
    },
    {
      "cell_type": "code",
      "metadata": {
        "colab": {
          "base_uri": "https://localhost:8080/"
        },
        "id": "IKovOXQ9TX1z",
        "outputId": "3ed9f8fb-5a4b-48b5-bcd6-1368bfce4fed"
      },
      "source": [
        "print(df.shape)"
      ],
      "execution_count": null,
      "outputs": [
        {
          "output_type": "stream",
          "text": [
            "(891, 7)\n"
          ],
          "name": "stdout"
        }
      ]
    },
    {
      "cell_type": "code",
      "metadata": {
        "colab": {
          "base_uri": "https://localhost:8080/"
        },
        "id": "QwgxO0eWTbdM",
        "outputId": "a540b943-fae6-4d2a-f5e2-842ed87413a1"
      },
      "source": [
        "df = df.dropna()\r\n",
        "print(df.shape)"
      ],
      "execution_count": null,
      "outputs": [
        {
          "output_type": "stream",
          "text": [
            "(712, 7)\n"
          ],
          "name": "stdout"
        }
      ]
    },
    {
      "cell_type": "code",
      "metadata": {
        "colab": {
          "base_uri": "https://localhost:8080/"
        },
        "id": "LOwmDD4WT_Hu",
        "outputId": "d1e57a43-ffa6-426e-af27-d27d0cd3865f"
      },
      "source": [
        "print(df.isna().sum())"
      ],
      "execution_count": null,
      "outputs": [
        {
          "output_type": "stream",
          "text": [
            "Survived    0\n",
            "Pclass      0\n",
            "Sex         0\n",
            "Age         0\n",
            "SibSp       0\n",
            "Parch       0\n",
            "Embarked    0\n",
            "dtype: int64\n"
          ],
          "name": "stdout"
        }
      ]
    },
    {
      "cell_type": "code",
      "metadata": {
        "colab": {
          "base_uri": "https://localhost:8080/"
        },
        "id": "6G8zg08iUKDO",
        "outputId": "6bd3df37-bad9-47a5-98a7-b95bf2065300"
      },
      "source": [
        "print(df.groupby('Survived').size())"
      ],
      "execution_count": null,
      "outputs": [
        {
          "output_type": "stream",
          "text": [
            "Survived\n",
            "0    424\n",
            "1    288\n",
            "dtype: int64\n"
          ],
          "name": "stdout"
        }
      ]
    },
    {
      "cell_type": "markdown",
      "metadata": {
        "id": "h8qhdiBjPkaL"
      },
      "source": [
        "## Replacing Strings with Numeric Data\r\n",
        "\r\n",
        "- Column: Sex<br>\r\n",
        ">Female : 0<br>\r\n",
        ">Male : 1<br><br>\r\n",
        "\r\n",
        "- Column: Embarked<br>\r\n",
        ">C : 0<br>\r\n",
        ">Q : 1<br>\r\n",
        ">S : 2"
      ]
    },
    {
      "cell_type": "code",
      "metadata": {
        "id": "fZrZKFn4cDkI"
      },
      "source": [
        "df = df.replace(to_replace='female', value=0)\r\n",
        "df = df.replace(to_replace='male', value=1)\r\n",
        "\r\n",
        "df = df.replace(to_replace='C', value=0)\r\n",
        "df = df.replace(to_replace='Q', value=1)\r\n",
        "df = df.replace(to_replace='S', value=2)"
      ],
      "execution_count": null,
      "outputs": []
    },
    {
      "cell_type": "markdown",
      "metadata": {
        "id": "0YaoUrR4Q1RR"
      },
      "source": [
        "## Splitting data between Train and Test sets"
      ]
    },
    {
      "cell_type": "code",
      "metadata": {
        "colab": {
          "base_uri": "https://localhost:8080/"
        },
        "id": "b5io2F-2VcZm",
        "outputId": "582ab2f7-9073-4316-dcc6-f4eb8fed2fa7"
      },
      "source": [
        "train, test = train_test_split(df, test_size=0.3, stratify=df['Survived'], random_state=0)\r\n",
        "print('Train Shape', train.shape, '\\n', train.groupby('Survived').size())\r\n",
        "print('\\nTest Shape', train.shape, '\\n', test.groupby('Survived').size())"
      ],
      "execution_count": null,
      "outputs": [
        {
          "output_type": "stream",
          "text": [
            "Train Shape (498, 7) \n",
            " Survived\n",
            "0    297\n",
            "1    201\n",
            "dtype: int64\n",
            "\n",
            "Test Shape (498, 7) \n",
            " Survived\n",
            "0    127\n",
            "1     87\n",
            "dtype: int64\n"
          ],
          "name": "stdout"
        }
      ]
    },
    {
      "cell_type": "code",
      "metadata": {
        "id": "KaoN47u9W1Mw"
      },
      "source": [
        "y_train = (train.pop('Survived')).to_numpy()\r\n",
        "y_test = (test.pop('Survived')).to_numpy()\r\n",
        "x_train = train.to_numpy()\r\n",
        "x_test = test.to_numpy()"
      ],
      "execution_count": null,
      "outputs": []
    },
    {
      "cell_type": "code",
      "metadata": {
        "colab": {
          "base_uri": "https://localhost:8080/"
        },
        "id": "fH2xLiDibQog",
        "outputId": "4d5cf8e7-5500-4435-cb27-6f43f969ef02"
      },
      "source": [
        "print('Dimensions and datatype of')\r\n",
        "\r\n",
        "print('x_train:', x_train.shape, '\\tdtype:', x_train.dtype, '\\tRange:', x_train.min(), 'to', x_train.max())\r\n",
        "print('y_train:', y_train.shape, '\\tdtype:', y_train.dtype, '\\tRange:', y_train.min(), 'to', y_train.max())\r\n",
        "\r\n",
        "print('x_test:', x_test.shape, '\\tdtype:', x_test.dtype, '\\tRange:', x_test.min(), 'to', x_train.max())\r\n",
        "print('y_test:', y_test.shape, '\\t\\tdtype:', y_test.dtype, '\\tRange:', y_test.min(), 'to', y_test.max())"
      ],
      "execution_count": null,
      "outputs": [
        {
          "output_type": "stream",
          "text": [
            "Dimensions and datatype of\n",
            "x_train: (498, 6) \tdtype: float64 \tRange: 0.0 to 80.0\n",
            "y_train: (498,) \tdtype: int64 \tRange: 0 to 1\n",
            "x_test: (214, 6) \tdtype: float64 \tRange: 0.0 to 80.0\n",
            "y_test: (214,) \t\tdtype: int64 \tRange: 0 to 1\n"
          ],
          "name": "stdout"
        }
      ]
    },
    {
      "cell_type": "markdown",
      "metadata": {
        "id": "yH8dSk2nac7R"
      },
      "source": [
        "## Normalize the data"
      ]
    },
    {
      "cell_type": "code",
      "metadata": {
        "id": "Rgw71TV_R_i_"
      },
      "source": [
        "mean = x_train.mean(axis=0)\r\n",
        "std = x_train.std(axis=0)"
      ],
      "execution_count": null,
      "outputs": []
    },
    {
      "cell_type": "code",
      "metadata": {
        "id": "qfeJLj51ay0k"
      },
      "source": [
        "x_train = (x_train - mean) / std\r\n",
        "x_test = (x_test - mean) / std"
      ],
      "execution_count": null,
      "outputs": []
    },
    {
      "cell_type": "code",
      "metadata": {
        "colab": {
          "base_uri": "https://localhost:8080/"
        },
        "id": "5cliU_VMcMB8",
        "outputId": "001d7b93-3f76-4a1b-c638-725fe296510c"
      },
      "source": [
        "print('Dimensions and datatype of')\r\n",
        "\r\n",
        "print('x_train:', x_train.shape, '\\tdtype:', x_train.dtype, '\\tRange:', x_train.min(), 'to', x_train.max())\r\n",
        "print('y_train:', y_train.shape, '\\tdtype:', y_train.dtype, '\\tRange:', y_train.min(), 'to', y_train.max())\r\n",
        "\r\n",
        "print('x_test:', x_test.shape, '\\tdtype:', x_test.dtype, '\\tRange:', x_test.min(), 'to', x_train.max())\r\n",
        "print('y_test:', y_test.shape, '\\t\\tdtype:', y_test.dtype, '\\tRange:', y_test.min(), 'to', y_test.max())"
      ],
      "execution_count": null,
      "outputs": [
        {
          "output_type": "stream",
          "text": [
            "Dimensions and datatype of\n",
            "x_train: (498, 6) \tdtype: float64 \tRange: -2.0776848062419653 to 6.470294457908575\n",
            "y_train: (498,) \tdtype: int64 \tRange: 0 to 1\n",
            "x_test: (214, 6) \tdtype: float64 \tRange: -2.0776848062419653 to 6.470294457908575\n",
            "y_test: (214,) \t\tdtype: int64 \tRange: 0 to 1\n"
          ],
          "name": "stdout"
        }
      ]
    },
    {
      "cell_type": "markdown",
      "metadata": {
        "id": "Y_hwwx1tfgos"
      },
      "source": [
        "##  Loading and Fitting the Model"
      ]
    },
    {
      "cell_type": "code",
      "metadata": {
        "colab": {
          "base_uri": "https://localhost:8080/"
        },
        "id": "Hv3rlNMOYN2H",
        "outputId": "de9e2fe8-0be6-432c-e210-66318495a503"
      },
      "source": [
        "from sklearn.naive_bayes import GaussianNB\r\n",
        "naive_bayes = GaussianNB()\r\n",
        "naive_bayes.fit(x_train, y_train)"
      ],
      "execution_count": null,
      "outputs": [
        {
          "output_type": "execute_result",
          "data": {
            "text/plain": [
              "GaussianNB(priors=None, var_smoothing=1e-09)"
            ]
          },
          "metadata": {
            "tags": []
          },
          "execution_count": 19
        }
      ]
    },
    {
      "cell_type": "markdown",
      "metadata": {
        "id": "3BCGriAKZhAL"
      },
      "source": [
        "## Prediction on the Test Set"
      ]
    },
    {
      "cell_type": "code",
      "metadata": {
        "colab": {
          "base_uri": "https://localhost:8080/"
        },
        "id": "zJMyB0_6d6TZ",
        "outputId": "4e1865cd-9c8e-4482-e878-2ae5eacff678"
      },
      "source": [
        "y_pred = naive_bayes.predict(x_test)\r\n",
        "print(y_test)\r\n",
        "print(y_pred)"
      ],
      "execution_count": null,
      "outputs": [
        {
          "output_type": "stream",
          "text": [
            "[1 0 0 1 1 0 0 0 1 1 1 1 1 0 0 0 1 0 1 0 1 0 1 1 0 1 1 0 1 0 0 1 1 0 0 1 1\n",
            " 1 0 0 0 0 1 1 1 1 0 1 0 0 1 0 0 0 0 0 0 0 1 0 0 1 0 0 0 0 0 1 0 0 1 0 0 0\n",
            " 1 0 0 1 1 0 0 0 0 1 0 0 0 1 0 0 1 0 0 1 0 0 1 1 1 1 1 0 1 1 0 1 0 1 1 1 1\n",
            " 0 0 0 0 1 1 0 0 0 0 0 0 0 1 0 1 1 0 1 0 0 1 0 0 0 1 1 1 0 0 0 1 0 1 0 0 0\n",
            " 0 0 0 0 1 1 0 0 0 0 1 0 0 0 0 0 0 0 1 0 0 1 1 0 1 0 0 1 0 0 1 1 1 0 0 0 1\n",
            " 0 0 1 1 1 1 0 0 1 0 0 1 0 1 0 1 0 0 1 0 1 1 0 0 1 0 0 0 1]\n",
            "[1 0 0 0 0 0 0 0 0 1 1 1 1 0 0 0 1 0 1 0 1 0 1 1 0 1 0 0 0 0 1 1 0 0 1 1 1\n",
            " 1 0 0 0 0 1 1 1 0 0 0 0 0 1 0 0 0 1 0 0 0 1 0 1 1 0 0 0 0 0 0 0 0 0 0 0 0\n",
            " 1 0 0 0 0 0 0 0 0 1 1 0 0 1 0 0 0 0 0 1 0 0 1 1 1 1 0 0 1 0 0 1 0 0 0 1 1\n",
            " 0 0 0 0 1 1 1 0 1 0 0 0 0 1 0 1 1 0 1 1 0 1 0 0 0 0 1 0 0 0 0 1 0 0 0 0 1\n",
            " 1 1 0 0 1 1 1 0 0 0 1 0 0 0 0 0 0 0 0 0 0 1 0 0 1 0 0 1 0 0 1 1 1 0 0 1 1\n",
            " 0 0 1 1 1 1 0 0 1 0 0 1 0 1 0 1 0 0 0 0 1 0 1 0 1 0 1 0 1]\n"
          ],
          "name": "stdout"
        }
      ]
    },
    {
      "cell_type": "markdown",
      "metadata": {
        "id": "0MTx5D2tfOVX"
      },
      "source": [
        "## Test Accuracy and Confusion Matrix"
      ]
    },
    {
      "cell_type": "code",
      "metadata": {
        "id": "ygXEdLltbhGh"
      },
      "source": [
        "def results(y_test, y_predict):\r\n",
        "  print('Accuracy -', (accuracy_score(y_test, y_predict) * 100))\r\n",
        "  print('Report\\n', classification_report(y_test, y_predict))"
      ],
      "execution_count": null,
      "outputs": []
    },
    {
      "cell_type": "code",
      "metadata": {
        "colab": {
          "base_uri": "https://localhost:8080/"
        },
        "id": "fxYFJ_J5TRZV",
        "outputId": "e1fd20ce-5a60-4b8e-81d1-0809dbe7b1a3"
      },
      "source": [
        "results(y_test, y_pred)"
      ],
      "execution_count": null,
      "outputs": [
        {
          "output_type": "stream",
          "text": [
            "Accuracy - 81.77570093457945\n",
            "Report\n",
            "               precision    recall  f1-score   support\n",
            "\n",
            "           0       0.82      0.88      0.85       127\n",
            "           1       0.81      0.72      0.76        87\n",
            "\n",
            "    accuracy                           0.82       214\n",
            "   macro avg       0.82      0.80      0.81       214\n",
            "weighted avg       0.82      0.82      0.82       214\n",
            "\n"
          ],
          "name": "stdout"
        }
      ]
    }
  ]
}