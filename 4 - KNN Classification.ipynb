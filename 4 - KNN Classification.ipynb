{
  "nbformat": 4,
  "nbformat_minor": 0,
  "metadata": {
    "colab": {
      "name": "KNN Classification.ipynb",
      "provenance": [],
      "collapsed_sections": []
    },
    "kernelspec": {
      "name": "python3",
      "display_name": "Python 3"
    }
  },
  "cells": [
    {
      "cell_type": "markdown",
      "metadata": {
        "id": "QLKuEUrsjJtt"
      },
      "source": [
        "#### Dataset Used: Iris dataset in sklearn.datasets\r\n",
        "#### Name: Rajath C Aralikatti\r\n",
        "#### Roll No: 181CO241 Section 2"
      ]
    },
    {
      "cell_type": "markdown",
      "metadata": {
        "id": "i9Qhwyf6_bVY"
      },
      "source": [
        "## KNN\r\n",
        "- The k-nearest neighbors (KNN) algorithm is a simple, supervised machine learning algorithm that can be used to solve both classification and regression problems. It's easy to implement and understand, but has a major drawback of becoming significantly slows as the size of that data in use grows."
      ]
    },
    {
      "cell_type": "markdown",
      "metadata": {
        "id": "ByRG7UVFECKH"
      },
      "source": [
        "## Import the required libraries"
      ]
    },
    {
      "cell_type": "code",
      "metadata": {
        "id": "6NzIK9KbMM2i"
      },
      "source": [
        "import numpy as np\r\n",
        "import matplotlib.pyplot as plt\r\n",
        "from sklearn import datasets\r\n",
        "from sklearn.metrics import classification_report, accuracy_score\r\n",
        "from sklearn.model_selection import train_test_split"
      ],
      "execution_count": 1,
      "outputs": []
    },
    {
      "cell_type": "markdown",
      "metadata": {
        "id": "vLiXB3OUd2x6"
      },
      "source": [
        "## Load Dataset"
      ]
    },
    {
      "cell_type": "code",
      "metadata": {
        "colab": {
          "base_uri": "https://localhost:8080/"
        },
        "id": "KA1BOkSsPZ80",
        "outputId": "0be647c4-fa7d-47b3-d7a6-24324addffd8"
      },
      "source": [
        "iris = datasets.load_iris()\r\n",
        "iris.keys()"
      ],
      "execution_count": 2,
      "outputs": [
        {
          "output_type": "execute_result",
          "data": {
            "text/plain": [
              "dict_keys(['data', 'target', 'target_names', 'DESCR', 'feature_names', 'filename'])"
            ]
          },
          "metadata": {
            "tags": []
          },
          "execution_count": 2
        }
      ]
    },
    {
      "cell_type": "markdown",
      "metadata": {
        "id": "th1KiU3BgTiI"
      },
      "source": [
        "## Dataset Info"
      ]
    },
    {
      "cell_type": "code",
      "metadata": {
        "colab": {
          "base_uri": "https://localhost:8080/"
        },
        "id": "GxYk3v-LeOv1",
        "outputId": "27a3cb1c-f814-4207-d3f4-3b9bd3d15ec9"
      },
      "source": [
        "print(iris['DESCR'])"
      ],
      "execution_count": 3,
      "outputs": [
        {
          "output_type": "stream",
          "text": [
            ".. _iris_dataset:\n",
            "\n",
            "Iris plants dataset\n",
            "--------------------\n",
            "\n",
            "**Data Set Characteristics:**\n",
            "\n",
            "    :Number of Instances: 150 (50 in each of three classes)\n",
            "    :Number of Attributes: 4 numeric, predictive attributes and the class\n",
            "    :Attribute Information:\n",
            "        - sepal length in cm\n",
            "        - sepal width in cm\n",
            "        - petal length in cm\n",
            "        - petal width in cm\n",
            "        - class:\n",
            "                - Iris-Setosa\n",
            "                - Iris-Versicolour\n",
            "                - Iris-Virginica\n",
            "                \n",
            "    :Summary Statistics:\n",
            "\n",
            "    ============== ==== ==== ======= ===== ====================\n",
            "                    Min  Max   Mean    SD   Class Correlation\n",
            "    ============== ==== ==== ======= ===== ====================\n",
            "    sepal length:   4.3  7.9   5.84   0.83    0.7826\n",
            "    sepal width:    2.0  4.4   3.05   0.43   -0.4194\n",
            "    petal length:   1.0  6.9   3.76   1.76    0.9490  (high!)\n",
            "    petal width:    0.1  2.5   1.20   0.76    0.9565  (high!)\n",
            "    ============== ==== ==== ======= ===== ====================\n",
            "\n",
            "    :Missing Attribute Values: None\n",
            "    :Class Distribution: 33.3% for each of 3 classes.\n",
            "    :Creator: R.A. Fisher\n",
            "    :Donor: Michael Marshall (MARSHALL%PLU@io.arc.nasa.gov)\n",
            "    :Date: July, 1988\n",
            "\n",
            "The famous Iris database, first used by Sir R.A. Fisher. The dataset is taken\n",
            "from Fisher's paper. Note that it's the same as in R, but not as in the UCI\n",
            "Machine Learning Repository, which has two wrong data points.\n",
            "\n",
            "This is perhaps the best known database to be found in the\n",
            "pattern recognition literature.  Fisher's paper is a classic in the field and\n",
            "is referenced frequently to this day.  (See Duda & Hart, for example.)  The\n",
            "data set contains 3 classes of 50 instances each, where each class refers to a\n",
            "type of iris plant.  One class is linearly separable from the other 2; the\n",
            "latter are NOT linearly separable from each other.\n",
            "\n",
            ".. topic:: References\n",
            "\n",
            "   - Fisher, R.A. \"The use of multiple measurements in taxonomic problems\"\n",
            "     Annual Eugenics, 7, Part II, 179-188 (1936); also in \"Contributions to\n",
            "     Mathematical Statistics\" (John Wiley, NY, 1950).\n",
            "   - Duda, R.O., & Hart, P.E. (1973) Pattern Classification and Scene Analysis.\n",
            "     (Q327.D83) John Wiley & Sons.  ISBN 0-471-22361-1.  See page 218.\n",
            "   - Dasarathy, B.V. (1980) \"Nosing Around the Neighborhood: A New System\n",
            "     Structure and Classification Rule for Recognition in Partially Exposed\n",
            "     Environments\".  IEEE Transactions on Pattern Analysis and Machine\n",
            "     Intelligence, Vol. PAMI-2, No. 1, 67-71.\n",
            "   - Gates, G.W. (1972) \"The Reduced Nearest Neighbor Rule\".  IEEE Transactions\n",
            "     on Information Theory, May 1972, 431-433.\n",
            "   - See also: 1988 MLC Proceedings, 54-64.  Cheeseman et al\"s AUTOCLASS II\n",
            "     conceptual clustering system finds 3 classes in the data.\n",
            "   - Many, many more ...\n"
          ],
          "name": "stdout"
        }
      ]
    },
    {
      "cell_type": "code",
      "metadata": {
        "colab": {
          "base_uri": "https://localhost:8080/"
        },
        "id": "GjBTTU9Re0wB",
        "outputId": "e49561c6-08a1-44a5-ba48-d4e046a63b91"
      },
      "source": [
        "x = np.array(iris['data'])\r\n",
        "y = np.array(iris['target'])\r\n",
        "feat_names = iris['feature_names']\r\n",
        "\r\n",
        "print('Input features shape is', x.shape, 'and type is', x.dtype)\r\n",
        "print('Output shape is', y.shape, 'and type is', y.dtype)\r\n",
        "\r\n",
        "print('\\nList of Features is:')\r\n",
        "for i in feat_names:\r\n",
        "  print(i)"
      ],
      "execution_count": 4,
      "outputs": [
        {
          "output_type": "stream",
          "text": [
            "Input features shape is (150, 4) and type is float64\n",
            "Output shape is (150,) and type is int64\n",
            "\n",
            "List of Features is:\n",
            "sepal length (cm)\n",
            "sepal width (cm)\n",
            "petal length (cm)\n",
            "petal width (cm)\n"
          ],
          "name": "stdout"
        }
      ]
    },
    {
      "cell_type": "markdown",
      "metadata": {
        "id": "0YaoUrR4Q1RR"
      },
      "source": [
        "## Splitting data between Train and Test sets"
      ]
    },
    {
      "cell_type": "code",
      "metadata": {
        "id": "b5io2F-2VcZm"
      },
      "source": [
        "x_train, x_test, y_train, y_test = train_test_split(x, y, test_size=0.3, random_state=0, stratify=y)"
      ],
      "execution_count": 5,
      "outputs": []
    },
    {
      "cell_type": "code",
      "metadata": {
        "colab": {
          "base_uri": "https://localhost:8080/"
        },
        "id": "dtM2jyEJlCad",
        "outputId": "c11acff7-408e-4576-bcd3-c1134dbea16e"
      },
      "source": [
        "print('Dimensions and datatype of')\r\n",
        "\r\n",
        "print('x_train:', x_train.shape, '\\tdtype:', x_train.dtype, '\\tRange:', x_train.min(), 'to', x_train.max())\r\n",
        "print('y_train:', y_train.shape, '\\tdtype:', y_train.dtype, '\\tRange:', y_train.min(), 'to', y_train.max())\r\n",
        "\r\n",
        "print('x_test:', x_test.shape, '\\tdtype:', x_test.dtype, '\\tRange:', x_test.min(), 'to', x_train.max())\r\n",
        "print('y_test:', y_test.shape, '\\t\\tdtype:', y_test.dtype, '\\tRange:', y_test.min(), 'to', y_test.max())"
      ],
      "execution_count": 6,
      "outputs": [
        {
          "output_type": "stream",
          "text": [
            "Dimensions and datatype of\n",
            "x_train: (105, 4) \tdtype: float64 \tRange: 0.1 to 7.9\n",
            "y_train: (105,) \tdtype: int64 \tRange: 0 to 2\n",
            "x_test: (45, 4) \tdtype: float64 \tRange: 0.1 to 7.9\n",
            "y_test: (45,) \t\tdtype: int64 \tRange: 0 to 2\n"
          ],
          "name": "stdout"
        }
      ]
    },
    {
      "cell_type": "markdown",
      "metadata": {
        "id": "yH8dSk2nac7R"
      },
      "source": [
        "## Normalize the data"
      ]
    },
    {
      "cell_type": "code",
      "metadata": {
        "id": "Rgw71TV_R_i_"
      },
      "source": [
        "mean = x_train.mean(axis=0)\r\n",
        "std = x_train.std(axis=0)"
      ],
      "execution_count": 7,
      "outputs": []
    },
    {
      "cell_type": "code",
      "metadata": {
        "colab": {
          "base_uri": "https://localhost:8080/"
        },
        "id": "GE1GEr0YmcFX",
        "outputId": "74f20145-f621-4462-c921-b354ec13614b"
      },
      "source": [
        "print(mean, std)"
      ],
      "execution_count": 8,
      "outputs": [
        {
          "output_type": "stream",
          "text": [
            "[5.86380952 3.04190476 3.75714286 1.20095238] [0.85725184 0.45288093 1.7976099  0.76201428]\n"
          ],
          "name": "stdout"
        }
      ]
    },
    {
      "cell_type": "code",
      "metadata": {
        "id": "qfeJLj51ay0k"
      },
      "source": [
        "x_train = (x_train - mean) / std\r\n",
        "x_test = (x_test - mean) / std"
      ],
      "execution_count": 9,
      "outputs": []
    },
    {
      "cell_type": "code",
      "metadata": {
        "colab": {
          "base_uri": "https://localhost:8080/"
        },
        "id": "5cliU_VMcMB8",
        "outputId": "9d05de16-2db6-48e5-a9e1-2f9ba7971b74"
      },
      "source": [
        "print('Dimensions and datatype of')\r\n",
        "\r\n",
        "print('x_train:', x_train.shape, '\\tdtype:', x_train.dtype, '\\tRange:', x_train.min(), 'to', x_train.max())\r\n",
        "print('y_train:', y_train.shape, '\\tdtype:', y_train.dtype, '\\tRange:', y_train.min(), 'to', y_train.max())\r\n",
        "\r\n",
        "print('x_test:', x_test.shape, '\\tdtype:', x_test.dtype, '\\tRange:', x_test.min(), 'to', x_train.max())\r\n",
        "print('y_test:', y_test.shape, '\\t\\tdtype:', y_test.dtype, '\\tRange:', y_test.min(), 'to', y_test.max())"
      ],
      "execution_count": 10,
      "outputs": [
        {
          "output_type": "stream",
          "text": [
            "Dimensions and datatype of\n",
            "x_train: (105, 4) \tdtype: float64 \tRange: -2.300615239971733 to 2.9987909800728434\n",
            "y_train: (105,) \tdtype: int64 \tRange: 0 to 2\n",
            "x_test: (45, 4) \tdtype: float64 \tRange: -1.8589980549680178 to 2.9987909800728434\n",
            "y_test: (45,) \t\tdtype: int64 \tRange: 0 to 2\n"
          ],
          "name": "stdout"
        }
      ]
    },
    {
      "cell_type": "markdown",
      "metadata": {
        "id": "Y_hwwx1tfgos"
      },
      "source": [
        "##  Using Scikit Learn Inbuilt KNN Classifier"
      ]
    },
    {
      "cell_type": "code",
      "metadata": {
        "id": "Hv3rlNMOYN2H"
      },
      "source": [
        "from sklearn.neighbors import KNeighborsClassifier\r\n",
        "\r\n",
        "def knn_fun(k=3):\r\n",
        "  knn = KNeighborsClassifier(n_neighbors=k)\r\n",
        "  knn.fit(x_train, y_train)\r\n",
        "  pred = knn.predict(x_test)\r\n",
        "  return(accuracy_score(y_test, pred), pred)"
      ],
      "execution_count": 11,
      "outputs": []
    },
    {
      "cell_type": "code",
      "metadata": {
        "id": "gi5aIn1xpn0y"
      },
      "source": [
        "# Running KNN for k = 1 to 15 and choosing the best k value\r\n",
        "\r\n",
        "best_pred = []\r\n",
        "best_acc = float('-inf')\r\n",
        "best_k = -1\r\n",
        "\r\n",
        "k_list = []\r\n",
        "acc_list = []\r\n",
        "\r\n",
        "for i in range(1, 16):\r\n",
        "  acc, pred = knn_fun(i)\r\n",
        "  k_list.append(i)\r\n",
        "  acc_list.append(acc)\r\n",
        "  if(acc > best_acc):\r\n",
        "    best_acc = acc\r\n",
        "    best_k = i\r\n",
        "    best_pred = pred"
      ],
      "execution_count": 12,
      "outputs": []
    },
    {
      "cell_type": "code",
      "metadata": {
        "colab": {
          "base_uri": "https://localhost:8080/",
          "height": 312
        },
        "id": "bd8dLy6Uq6-Z",
        "outputId": "4458e193-ecd4-4b69-eeeb-6ae193c5e395"
      },
      "source": [
        "plt.plot(k_list, acc_list)\r\n",
        "plt.xlabel('K value')\r\n",
        "plt.ylabel('Testing Accuracy')\r\n",
        "plt.title('K value (x-axis) vs Testing Accuracy (y-axis)')"
      ],
      "execution_count": 13,
      "outputs": [
        {
          "output_type": "execute_result",
          "data": {
            "text/plain": [
              "Text(0.5, 1.0, 'K value (x-axis) vs Testing Accuracy (y-axis)')"
            ]
          },
          "metadata": {
            "tags": []
          },
          "execution_count": 13
        },
        {
          "output_type": "display_data",
          "data": {
            "image/png": "[encoded data removed]",
            "text/plain": [
              "<Figure size 432x288 with 1 Axes>"
            ]
          },
          "metadata": {
            "tags": [],
            "needs_background": "light"
          }
        }
      ]
    },
    {
      "cell_type": "code",
      "metadata": {
        "colab": {
          "base_uri": "https://localhost:8080/"
        },
        "id": "XAoTprwasPS1",
        "outputId": "2c3478d0-04a4-4dfb-a8a2-c67260a66e29"
      },
      "source": [
        "print('K Value with best accuracy', best_k)\r\n",
        "print('Note: If multiple K values give the same accuracy, the lowest such K is printed\\n')\r\n",
        "print('Ground Truth')\r\n",
        "print(y_test, '\\n')\r\n",
        "print('Best Prediction')\r\n",
        "print(best_pred, '\\n')"
      ],
      "execution_count": 14,
      "outputs": [
        {
          "output_type": "stream",
          "text": [
            "K Value with best accuracy 13\n",
            "Note: If multiple K values give the same accuracy, the lowest such K is printed\n",
            "\n",
            "Ground Truth\n",
            "[2 2 0 0 1 0 1 2 0 1 0 2 0 2 1 2 1 1 1 0 1 2 0 1 2 2 2 2 1 2 1 0 0 1 1 2 1\n",
            " 0 0 1 0 2 0 0 2] \n",
            "\n",
            "Best Prediction\n",
            "[2 2 0 0 1 0 1 2 0 1 0 2 0 2 1 2 1 1 1 0 1 2 0 1 2 2 2 2 1 2 1 0 0 1 1 2 1\n",
            " 0 0 1 0 2 0 0 2] \n",
            "\n"
          ],
          "name": "stdout"
        }
      ]
    },
    {
      "cell_type": "code",
      "metadata": {
        "colab": {
          "base_uri": "https://localhost:8080/"
        },
        "id": "06bO6SqFtESs",
        "outputId": "02861ded-5d6f-4cd8-c219-c83e1d1f3fc9"
      },
      "source": [
        "print(classification_report(y_test, pred))\r\n",
        "print('Accuracy is', best_acc)"
      ],
      "execution_count": 15,
      "outputs": [
        {
          "output_type": "stream",
          "text": [
            "              precision    recall  f1-score   support\n",
            "\n",
            "           0       1.00      1.00      1.00        15\n",
            "           1       0.88      1.00      0.94        15\n",
            "           2       1.00      0.87      0.93        15\n",
            "\n",
            "    accuracy                           0.96        45\n",
            "   macro avg       0.96      0.96      0.96        45\n",
            "weighted avg       0.96      0.96      0.96        45\n",
            "\n",
            "Accuracy is 1.0\n"
          ],
          "name": "stdout"
        }
      ]
    },
    {
      "cell_type": "markdown",
      "metadata": {
        "id": "R4INjtOJuszq"
      },
      "source": [
        "## KNN without Scikit Learn"
      ]
    },
    {
      "cell_type": "code",
      "metadata": {
        "id": "2ZKAHEoHu40M"
      },
      "source": [
        "# KNN - Metric is Euclidian distance\r\n",
        "from scipy import stats\r\n",
        "\r\n",
        "def knn_fun(k=3):\r\n",
        "  pred = []\r\n",
        "  for x in x_test:\r\n",
        "    dist = np.sum((x - x_train)**2, axis=1)\r\n",
        "    sorted_dist = np.argsort(dist)\r\n",
        "    neighbor_classes = []\r\n",
        "    for i in range(k):\r\n",
        "      neighbor_classes.append(y_train[sorted_dist[i]])\r\n",
        "    pred.append(stats.mode(neighbor_classes)[0][0])\r\n",
        "        \r\n",
        "  return(accuracy_score(y_test, pred), pred)"
      ],
      "execution_count": 16,
      "outputs": []
    },
    {
      "cell_type": "code",
      "metadata": {
        "id": "ddGvF3EIu40N"
      },
      "source": [
        "# Running KNN for k = 1 to 15 and choosing the best k value\r\n",
        "\r\n",
        "best_pred = []\r\n",
        "best_acc = float('-inf')\r\n",
        "best_k = -1\r\n",
        "\r\n",
        "k_list = []\r\n",
        "acc_list = []\r\n",
        "\r\n",
        "for i in range(1, 16):\r\n",
        "  acc, pred = knn_fun(i)\r\n",
        "  k_list.append(i)\r\n",
        "  acc_list.append(acc)\r\n",
        "  if(acc > best_acc):\r\n",
        "    best_acc = acc\r\n",
        "    best_k = i\r\n",
        "    best_pred = pred"
      ],
      "execution_count": 17,
      "outputs": []
    },
    {
      "cell_type": "code",
      "metadata": {
        "colab": {
          "base_uri": "https://localhost:8080/",
          "height": 312
        },
        "id": "_j1MGneQu40O",
        "outputId": "48fd3d2a-a638-461b-81b7-bcedd3cb430f"
      },
      "source": [
        "plt.plot(k_list, acc_list)\r\n",
        "plt.xlabel('K value')\r\n",
        "plt.ylabel('Testing Accuracy')\r\n",
        "plt.title('K value (x-axis) vs Testing Accuracy (y-axis)')"
      ],
      "execution_count": 18,
      "outputs": [
        {
          "output_type": "execute_result",
          "data": {
            "text/plain": [
              "Text(0.5, 1.0, 'K value (x-axis) vs Testing Accuracy (y-axis)')"
            ]
          },
          "metadata": {
            "tags": []
          },
          "execution_count": 18
        },
        {
          "output_type": "display_data",
          "data": {
            "image/png": "[encoded data removed]",
            "text/plain": [
              "<Figure size 432x288 with 1 Axes>"
            ]
          },
          "metadata": {
            "tags": [],
            "needs_background": "light"
          }
        }
      ]
    },
    {
      "cell_type": "code",
      "metadata": {
        "colab": {
          "base_uri": "https://localhost:8080/"
        },
        "id": "t9i2bqX-u40P",
        "outputId": "0a0d0d10-db79-44bb-9b0c-626af17f0028"
      },
      "source": [
        "print('K Value with best accuracy', best_k)\r\n",
        "print('Note: If multiple K values give the same accuracy, the lowest such K is printed\\n')\r\n",
        "print('Ground Truth')\r\n",
        "print(y_test, '\\n')\r\n",
        "print('Best Prediction')\r\n",
        "print(np.array(best_pred), '\\n')"
      ],
      "execution_count": 19,
      "outputs": [
        {
          "output_type": "stream",
          "text": [
            "K Value with best accuracy 13\n",
            "Note: If multiple K values give the same accuracy, the lowest such K is printed\n",
            "\n",
            "Ground Truth\n",
            "[2 2 0 0 1 0 1 2 0 1 0 2 0 2 1 2 1 1 1 0 1 2 0 1 2 2 2 2 1 2 1 0 0 1 1 2 1\n",
            " 0 0 1 0 2 0 0 2] \n",
            "\n",
            "Best Prediction\n",
            "[2 2 0 0 1 0 1 2 0 1 0 2 0 2 1 2 1 1 1 0 1 2 0 1 2 2 2 2 1 2 1 0 0 1 1 2 1\n",
            " 0 0 1 0 2 0 0 2] \n",
            "\n"
          ],
          "name": "stdout"
        }
      ]
    },
    {
      "cell_type": "code",
      "metadata": {
        "colab": {
          "base_uri": "https://localhost:8080/"
        },
        "id": "vSTPecbtu40Q",
        "outputId": "a88a1c5d-cad6-4528-f924-68a27ad23c45"
      },
      "source": [
        "print(classification_report(y_test, pred))\r\n",
        "print('Accuracy is', best_acc)"
      ],
      "execution_count": 20,
      "outputs": [
        {
          "output_type": "stream",
          "text": [
            "              precision    recall  f1-score   support\n",
            "\n",
            "           0       1.00      1.00      1.00        15\n",
            "           1       0.88      1.00      0.94        15\n",
            "           2       1.00      0.87      0.93        15\n",
            "\n",
            "    accuracy                           0.96        45\n",
            "   macro avg       0.96      0.96      0.96        45\n",
            "weighted avg       0.96      0.96      0.96        45\n",
            "\n",
            "Accuracy is 1.0\n"
          ],
          "name": "stdout"
        }
      ]
    }
  ]
}