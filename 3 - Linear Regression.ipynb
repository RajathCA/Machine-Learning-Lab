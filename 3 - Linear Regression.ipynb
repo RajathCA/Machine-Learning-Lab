{
  "nbformat": 4,
  "nbformat_minor": 0,
  "metadata": {
    "colab": {
      "name": "Linear Regression.ipynb",
      "provenance": [],
      "collapsed_sections": []
    },
    "kernelspec": {
      "name": "python3",
      "display_name": "Python 3"
    }
  },
  "cells": [
    {
      "cell_type": "markdown",
      "metadata": {
        "id": "QLKuEUrsjJtt"
      },
      "source": [
        "#### Dataset Used: California Housing dataset in sklearn.datasets\r\n",
        "#### Name: Rajath C Aralikatti\r\n",
        "#### Roll No: 181CO241 Section 2"
      ]
    },
    {
      "cell_type": "markdown",
      "metadata": {
        "id": "i9Qhwyf6_bVY"
      },
      "source": [
        "## Linear Regression"
      ]
    },
    {
      "cell_type": "markdown",
      "metadata": {
        "id": "ByRG7UVFECKH"
      },
      "source": [
        "## Import the required libraries"
      ]
    },
    {
      "cell_type": "code",
      "metadata": {
        "id": "6NzIK9KbMM2i"
      },
      "source": [
        "import numpy as np\r\n",
        "import matplotlib.pyplot as plt\r\n",
        "from sklearn import datasets, metrics\r\n",
        "from sklearn.linear_model import LinearRegression\r\n",
        "from sklearn.model_selection import train_test_split"
      ],
      "execution_count": 1,
      "outputs": []
    },
    {
      "cell_type": "markdown",
      "metadata": {
        "id": "vLiXB3OUd2x6"
      },
      "source": [
        "## Load Dataset"
      ]
    },
    {
      "cell_type": "code",
      "metadata": {
        "colab": {
          "base_uri": "https://localhost:8080/"
        },
        "id": "KA1BOkSsPZ80",
        "outputId": "1ba2fdba-2bbb-4b23-a20f-2f124cbd3c81"
      },
      "source": [
        "dataset = datasets.fetch_california_housing()\r\n",
        "dataset.keys()"
      ],
      "execution_count": 2,
      "outputs": [
        {
          "output_type": "execute_result",
          "data": {
            "text/plain": [
              "dict_keys(['data', 'target', 'feature_names', 'DESCR'])"
            ]
          },
          "metadata": {
            "tags": []
          },
          "execution_count": 2
        }
      ]
    },
    {
      "cell_type": "markdown",
      "metadata": {
        "id": "th1KiU3BgTiI"
      },
      "source": [
        "## Dataset Info"
      ]
    },
    {
      "cell_type": "code",
      "metadata": {
        "colab": {
          "base_uri": "https://localhost:8080/"
        },
        "id": "GxYk3v-LeOv1",
        "outputId": "37353a5d-b052-45f3-abf3-100b6bc0700e"
      },
      "source": [
        "print(dataset['DESCR'])"
      ],
      "execution_count": 3,
      "outputs": [
        {
          "output_type": "stream",
          "text": [
            ".. _california_housing_dataset:\n",
            "\n",
            "California Housing dataset\n",
            "--------------------------\n",
            "\n",
            "**Data Set Characteristics:**\n",
            "\n",
            "    :Number of Instances: 20640\n",
            "\n",
            "    :Number of Attributes: 8 numeric, predictive attributes and the target\n",
            "\n",
            "    :Attribute Information:\n",
            "        - MedInc        median income in block\n",
            "        - HouseAge      median house age in block\n",
            "        - AveRooms      average number of rooms\n",
            "        - AveBedrms     average number of bedrooms\n",
            "        - Population    block population\n",
            "        - AveOccup      average house occupancy\n",
            "        - Latitude      house block latitude\n",
            "        - Longitude     house block longitude\n",
            "\n",
            "    :Missing Attribute Values: None\n",
            "\n",
            "This dataset was obtained from the StatLib repository.\n",
            "http://lib.stat.cmu.edu/datasets/\n",
            "\n",
            "The target variable is the median house value for California districts.\n",
            "\n",
            "This dataset was derived from the 1990 U.S. census, using one row per census\n",
            "block group. A block group is the smallest geographical unit for which the U.S.\n",
            "Census Bureau publishes sample data (a block group typically has a population\n",
            "of 600 to 3,000 people).\n",
            "\n",
            "It can be downloaded/loaded using the\n",
            ":func:`sklearn.datasets.fetch_california_housing` function.\n",
            "\n",
            ".. topic:: References\n",
            "\n",
            "    - Pace, R. Kelley and Ronald Barry, Sparse Spatial Autoregressions,\n",
            "      Statistics and Probability Letters, 33 (1997) 291-297\n",
            "\n"
          ],
          "name": "stdout"
        }
      ]
    },
    {
      "cell_type": "code",
      "metadata": {
        "colab": {
          "base_uri": "https://localhost:8080/"
        },
        "id": "GjBTTU9Re0wB",
        "outputId": "7a97d474-b687-453e-8393-80478201ffc2"
      },
      "source": [
        "x = np.array(dataset['data'])\r\n",
        "y = np.array(dataset['target'])\r\n",
        "feat_names = dataset['feature_names']\r\n",
        "\r\n",
        "print('Input features shape is', x.shape, 'and type is', x.dtype)\r\n",
        "print('Output shape is', y.shape, 'and type is', y.dtype)\r\n",
        "\r\n",
        "print('\\nList of Features is:')\r\n",
        "for i in feat_names:\r\n",
        "  print(i, end=' ')"
      ],
      "execution_count": 4,
      "outputs": [
        {
          "output_type": "stream",
          "text": [
            "Input features shape is (20640, 8) and type is float64\n",
            "Output shape is (20640,) and type is float64\n",
            "\n",
            "List of Features is:\n",
            "MedInc HouseAge AveRooms AveBedrms Population AveOccup Latitude Longitude "
          ],
          "name": "stdout"
        }
      ]
    },
    {
      "cell_type": "markdown",
      "metadata": {
        "id": "0YaoUrR4Q1RR"
      },
      "source": [
        "## Splitting data between Train and Test sets"
      ]
    },
    {
      "cell_type": "code",
      "metadata": {
        "id": "b5io2F-2VcZm"
      },
      "source": [
        "x_train, x_test, y_train, y_test = train_test_split(x, y, test_size=0.2, random_state=0)"
      ],
      "execution_count": 5,
      "outputs": []
    },
    {
      "cell_type": "code",
      "metadata": {
        "colab": {
          "base_uri": "https://localhost:8080/"
        },
        "id": "dtM2jyEJlCad",
        "outputId": "b634f8fa-8757-478b-f65e-3f8466e44a66"
      },
      "source": [
        "print('Dimensions and datatype of')\r\n",
        "\r\n",
        "print('x_train:', x_train.shape, '\\tdtype:', x_train.dtype, '\\tRange:', x_train.min(), 'to', x_train.max())\r\n",
        "print('y_train:', y_train.shape, '\\tdtype:', y_train.dtype, '\\tRange:', y_train.min(), 'to', y_train.max())\r\n",
        "\r\n",
        "print('x_test:', x_test.shape, '\\tdtype:', x_test.dtype, '\\tRange:', x_test.min(), 'to', x_train.max())\r\n",
        "print('y_test:', y_test.shape, '\\tdtype:', y_test.dtype, '\\tRange:', y_test.min(), 'to', y_test.max())"
      ],
      "execution_count": 6,
      "outputs": [
        {
          "output_type": "stream",
          "text": [
            "Dimensions and datatype of\n",
            "x_train: (16512, 8) \tdtype: float64 \tRange: -124.35 to 35682.0\n",
            "y_train: (16512,) \tdtype: float64 \tRange: 0.14999 to 5.00001\n",
            "x_test: (4128, 8) \tdtype: float64 \tRange: -124.3 to 35682.0\n",
            "y_test: (4128,) \tdtype: float64 \tRange: 0.14999 to 5.00001\n"
          ],
          "name": "stdout"
        }
      ]
    },
    {
      "cell_type": "markdown",
      "metadata": {
        "id": "yH8dSk2nac7R"
      },
      "source": [
        "## Normalize the data"
      ]
    },
    {
      "cell_type": "code",
      "metadata": {
        "id": "Rgw71TV_R_i_"
      },
      "source": [
        "mean = x_train.mean(axis=0)\r\n",
        "std = x_train.std(axis=0)"
      ],
      "execution_count": 7,
      "outputs": []
    },
    {
      "cell_type": "code",
      "metadata": {
        "id": "qfeJLj51ay0k"
      },
      "source": [
        "x_train = (x_train - mean) / std\r\n",
        "x_test = (x_test - mean) / std"
      ],
      "execution_count": 8,
      "outputs": []
    },
    {
      "cell_type": "code",
      "metadata": {
        "colab": {
          "base_uri": "https://localhost:8080/"
        },
        "id": "5cliU_VMcMB8",
        "outputId": "64f31e5c-f57e-41c3-e612-9ee7934b3079"
      },
      "source": [
        "print('Dimensions and datatype of')\r\n",
        "\r\n",
        "print('x_train:', x_train.shape, '\\tdtype:', x_train.dtype, '\\tRange:', x_train.min(), 'to', x_train.max())\r\n",
        "print('y_train:', y_train.shape, '\\tdtype:', y_train.dtype, '\\tRange:', y_train.min(), 'to', y_train.max())\r\n",
        "\r\n",
        "print('x_test:', x_test.shape, '\\tdtype:', x_test.dtype, '\\tRange:', x_test.min(), 'to', x_train.max())\r\n",
        "print('y_test:', y_test.shape, '\\tdtype:', y_test.dtype, '\\tRange:', y_test.min(), 'to', y_test.max())"
      ],
      "execution_count": 9,
      "outputs": [
        {
          "output_type": "stream",
          "text": [
            "Dimensions and datatype of\n",
            "x_train: (16512, 8) \tdtype: float64 \tRange: -2.3873002025635786 to 92.63629617403092\n",
            "y_train: (16512,) \tdtype: float64 \tRange: 0.14999 to 5.00001\n",
            "x_test: (4128, 8) \tdtype: float64 \tRange: -2.362364916897036 to 92.63629617403092\n",
            "y_test: (4128,) \tdtype: float64 \tRange: 0.14999 to 5.00001\n"
          ],
          "name": "stdout"
        }
      ]
    },
    {
      "cell_type": "markdown",
      "metadata": {
        "id": "Y_hwwx1tfgos"
      },
      "source": [
        "##  Loading and Fitting the Model"
      ]
    },
    {
      "cell_type": "code",
      "metadata": {
        "colab": {
          "base_uri": "https://localhost:8080/"
        },
        "id": "Hv3rlNMOYN2H",
        "outputId": "dac5f209-8f74-4957-dbb2-0fc8dd057a09"
      },
      "source": [
        "model = LinearRegression(fit_intercept=True, normalize=False, copy_X=True)\r\n",
        "model.fit(x_train, y_train)"
      ],
      "execution_count": 10,
      "outputs": [
        {
          "output_type": "execute_result",
          "data": {
            "text/plain": [
              "LinearRegression(copy_X=True, fit_intercept=True, n_jobs=None, normalize=False)"
            ]
          },
          "metadata": {
            "tags": []
          },
          "execution_count": 10
        }
      ]
    },
    {
      "cell_type": "markdown",
      "metadata": {
        "id": "3BCGriAKZhAL"
      },
      "source": [
        "## Prediction on the Test Set"
      ]
    },
    {
      "cell_type": "code",
      "metadata": {
        "colab": {
          "base_uri": "https://localhost:8080/"
        },
        "id": "4tNi2DXjoeH-",
        "outputId": "d34586a1-02c2-4131-dcba-da8d0d291a41"
      },
      "source": [
        "print('Model Coefficients are', model.coef_)\r\n",
        "print('Model Intercept is', model.intercept_)"
      ],
      "execution_count": 11,
      "outputs": [
        {
          "output_type": "stream",
          "text": [
            "Model Coefficients are [ 0.82624793  0.1171006  -0.24891059  0.29038746 -0.00864349 -0.03056429\n",
            " -0.90042112 -0.87058566]\n",
            "Model Intercept is 2.072498958938836\n"
          ],
          "name": "stdout"
        }
      ]
    },
    {
      "cell_type": "code",
      "metadata": {
        "id": "zJMyB0_6d6TZ"
      },
      "source": [
        "y_pred = model.predict(x_test)"
      ],
      "execution_count": 12,
      "outputs": []
    },
    {
      "cell_type": "markdown",
      "metadata": {
        "id": "0MTx5D2tfOVX"
      },
      "source": [
        "## Analysis, MSE and RMSE"
      ]
    },
    {
      "cell_type": "code",
      "metadata": {
        "colab": {
          "base_uri": "https://localhost:8080/",
          "height": 638
        },
        "id": "-jb5sh74w8sf",
        "outputId": "911abfbe-aba9-41fe-b333-76b4d883f3a3"
      },
      "source": [
        "plt.figure(figsize=(10, 10)) \r\n",
        "plt.plot(y_test, y_pred, '.')\r\n",
        "plt.xlabel('Ground Truth')\r\n",
        "plt.ylabel('Prediction by Model')\r\n",
        "plt.title('Ground Truth (x-axis) vs Prediction (y-axis)')\r\n",
        "\r\n",
        "# Plotting line y=x. Perfect Predictions will fall on this line.\r\n",
        "plt.plot([0, 5], [0, 5])"
      ],
      "execution_count": 13,
      "outputs": [
        {
          "output_type": "execute_result",
          "data": {
            "text/plain": [
              "[<matplotlib.lines.Line2D at 0x7f80bb354fd0>]"
            ]
          },
          "metadata": {
            "tags": []
          },
          "execution_count": 13
        },
        {
          "output_type": "display_data",
          "data": {
            "image/png": "[encoded data removed]",
            "text/plain": [
              "<Figure size 720x720 with 1 Axes>"
            ]
          },
          "metadata": {
            "tags": [],
            "needs_background": "light"
          }
        }
      ]
    },
    {
      "cell_type": "code",
      "metadata": {
        "colab": {
          "base_uri": "https://localhost:8080/"
        },
        "id": "wOOMk_sNtEMf",
        "outputId": "a42cf5ec-dd6f-4e46-bf6f-bb941646cd97"
      },
      "source": [
        "mse = metrics.mean_squared_error(y_test, y_pred)\r\n",
        "rmse = np.sqrt(mse)\r\n",
        "\r\n",
        "print('Ground Truth Range', np.min(y_test), 'to', np.max(y_test))\r\n",
        "print('Prediction Range', np.min(y_pred), 'to', np.max(y_pred))\r\n",
        "print()\r\n",
        "\r\n",
        "print('The Mean Squared Error is', mse)\r\n",
        "print('The Root Mean Squared Error is', rmse)"
      ],
      "execution_count": 14,
      "outputs": [
        {
          "output_type": "stream",
          "text": [
            "Ground Truth Range 0.14999 to 5.00001\n",
            "Prediction Range -0.9735539990817283 to 7.163931134846754\n",
            "\n",
            "The Mean Squared Error is 0.5289841670367208\n",
            "The Root Mean Squared Error is 0.7273129773603114\n"
          ],
          "name": "stdout"
        }
      ]
    }
  ]
}